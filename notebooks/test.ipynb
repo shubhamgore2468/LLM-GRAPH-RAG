{
 "cells": [
  {
   "cell_type": "code",
   "execution_count": 1,
   "metadata": {},
   "outputs": [],
   "source": [
    "url1 = \"https://www.amazon.com/Capstar-Fast-Acting-Treatment-Small-CA4920Y07AMZ1/dp/B07PXHQ5JR/ref=sr_1_1_sspa?_encoding=UTF8&content-id=amzn1.sym.48a26550-be05-4ac8-96bd-17c43e450b37&dib=eyJ2IjoiMSJ9.pg2nrFAQp6-1I84qGQCtFdxbvyeHDJTfXbvg6YvUL4lhPZIaph0jVQmw2nlU7yzD_bI5Jv-xd0QtzvNhyQ-ebCQVkMtCiWHyiR7k6kyfsF_Ely4b0hiwVmmSSB6PKVVm1_nQAovXYFLTUtHsUJs-g_vTwqfGUiBHOHw6OMdzH0OjTlahjcLhR7jfsylgUZAPFzUfA2IpQEPkeYYZQc3ufBLvWSs5urBhzn0QfBxPr3e9qhPsPzYdpZADtKCPQ6z_iLxwLAB1v25k8JHEFlYCk9P7i4LykISJFnFJkmQoQkQ.MWlRMA6j1PCcZGPCDUSgWoFVdh0BCHIVCo1ABaTyIVs&dib_tag=se&keywords=Dog%2BFlea%2B%26%2BTick%2BControl&pd_rd_r=31f88c00-c940-4ffc-903f-998a9930e918&pd_rd_w=Sh0oP&pd_rd_wg=9YN6B&pf_rd_m=ATVPDKIKX0DER&pf_rd_p=48a26550-be05-4ac8-96bd-17c43e450b37&pf_rd_r=FDAMYWPH5BET60P6FVH8&pf_rd_s=desktop-top-slot-2&qid=1726174842&rdc=1&s=pet-supplies&sr=1-1-spons&sp_csd=d2lkZ2V0TmFtZT1zcF9hdGY&th=1\"\n",
    "url2 = \"https://www.walmart.com/ip/50PCS/8004357405?classType=VARIANT&athbdg=L1600\""
   ]
  },
  {
   "cell_type": "code",
   "execution_count": 2,
   "metadata": {},
   "outputs": [
    {
     "name": "stdout",
     "output_type": "stream",
     "text": [
      "['https:', '', 'www.amazon.com', 'Capstar-Fast-Acting-Treatment-Small-CA4920Y07AMZ1', 'dp', 'B07PXHQ5JR', 'ref=sr_1_1_sspa?_encoding=UTF8&content-id=amzn1.sym.48a26550-be05-4ac8-96bd-17c43e450b37&dib=eyJ2IjoiMSJ9.pg2nrFAQp6-1I84qGQCtFdxbvyeHDJTfXbvg6YvUL4lhPZIaph0jVQmw2nlU7yzD_bI5Jv-xd0QtzvNhyQ-ebCQVkMtCiWHyiR7k6kyfsF_Ely4b0hiwVmmSSB6PKVVm1_nQAovXYFLTUtHsUJs-g_vTwqfGUiBHOHw6OMdzH0OjTlahjcLhR7jfsylgUZAPFzUfA2IpQEPkeYYZQc3ufBLvWSs5urBhzn0QfBxPr3e9qhPsPzYdpZADtKCPQ6z_iLxwLAB1v25k8JHEFlYCk9P7i4LykISJFnFJkmQoQkQ.MWlRMA6j1PCcZGPCDUSgWoFVdh0BCHIVCo1ABaTyIVs&dib_tag=se&keywords=Dog%2BFlea%2B%26%2BTick%2BControl&pd_rd_r=31f88c00-c940-4ffc-903f-998a9930e918&pd_rd_w=Sh0oP&pd_rd_wg=9YN6B&pf_rd_m=ATVPDKIKX0DER&pf_rd_p=48a26550-be05-4ac8-96bd-17c43e450b37&pf_rd_r=FDAMYWPH5BET60P6FVH8&pf_rd_s=desktop-top-slot-2&qid=1726174842&rdc=1&s=pet-supplies&sr=1-1-spons&sp_csd=d2lkZ2V0TmFtZT1zcF9hdGY&th=1']\n"
     ]
    }
   ],
   "source": [
    "print(url1.split(\"/\"))"
   ]
  },
  {
   "cell_type": "code",
   "execution_count": 3,
   "metadata": {},
   "outputs": [
    {
     "name": "stdout",
     "output_type": "stream",
     "text": [
      "amazon\n"
     ]
    }
   ],
   "source": [
    "print(url1.split(\".\")[1])"
   ]
  },
  {
   "cell_type": "code",
   "execution_count": 4,
   "metadata": {},
   "outputs": [],
   "source": [
    "def get_domain(url):\n",
    "    url = url.split(\"/\")[2]\n",
    "    return url.split(\".\")[1]"
   ]
  },
  {
   "cell_type": "code",
   "execution_count": 5,
   "metadata": {},
   "outputs": [
    {
     "name": "stdout",
     "output_type": "stream",
     "text": [
      "amazon\n",
      "walmart\n"
     ]
    }
   ],
   "source": [
    "urls = [url1, url2]\n",
    "\n",
    "for url in urls:\n",
    "    print(get_domain(url))"
   ]
  },
  {
   "cell_type": "code",
   "execution_count": 12,
   "metadata": {},
   "outputs": [
    {
     "name": "stdout",
     "output_type": "stream",
     "text": [
      "Collecting jq\n",
      "  Downloading jq-1.8.0-cp312-cp312-macosx_11_0_arm64.whl.metadata (7.0 kB)\n",
      "Downloading jq-1.8.0-cp312-cp312-macosx_11_0_arm64.whl (422 kB)\n",
      "Installing collected packages: jq\n",
      "Successfully installed jq-1.8.0\n",
      "Note: you may need to restart the kernel to use updated packages.\n"
     ]
    }
   ],
   "source": [
    "%pip install jq"
   ]
  },
  {
   "cell_type": "code",
   "execution_count": 5,
   "metadata": {},
   "outputs": [],
   "source": [
    "from langchain_community.document_loaders import JSONLoader\n",
    "import json\n",
    "from pathlib import Path"
   ]
  },
  {
   "cell_type": "code",
   "execution_count": 6,
   "metadata": {},
   "outputs": [],
   "source": [
    "file_path='../data/test_data.json'\n",
    "data = json.loads(Path(file_path).read_text())"
   ]
  },
  {
   "cell_type": "code",
   "execution_count": 13,
   "metadata": {},
   "outputs": [
    {
     "name": "stdout",
     "output_type": "stream",
     "text": [
      "page_content='I've been using this product and it's truly a life saver. It's fast-acting, kills fleas within 30 mins and the best part is that dead fleas fall off the pet. It's easy to administer with no mess or residue, which I appreciate. The pack comes with 6 doses and treats re-infestations fast. It doesn't require a vet prescription, and it's safe for dogs and puppies. It's effective for medium and large dogs too. A highly recommended product for flea issues!' metadata={'source': '/Users/shubhamgore/Development/GraphRag_Langchain/data/test_data.json', 'seq_num': 1}\n",
      "page_content='This product has been what I was looking for in terms of flea treatment. It's effective and fast acting - just as promised on the packaging. It starts killing fleas in 30 minutes, which is a relief for my dog. However, I believe the price could be a bit more affordable. It's worth it for the speed and effectiveness, but the cost might be a barrier for some pet owners. Despite the price, I would still recommend it to others who are battling with a flea problem.' metadata={'source': '/Users/shubhamgore/Development/GraphRag_Langchain/data/test_data.json', 'seq_num': 2}\n",
      "page_content='Noticed my 3 dogs scratching like crazy so I did a closer inspection!! Holyyy crap they were seriously infested with fleas!!😳👎🤮(But I am also a germaphobe AND sleep WITH my two!!) Regardless, ONE flea IS too many!! I also applied a foam dry shampoo (for dogs with fleas) sprayed their crate with another type and also washed their linens plus applied the neck flea stuff once I was done with the dry shampoo stuff. CapStar was the only internal thing I used. So, not sure which or what was the most effective but that's the ONLY way I do any sort OF flea remediation!!🙋🏼‍♀️🙌 I'm NOT a fan OF just constantly using the neck stuff. ISN'T necessary if there aren't fleas/ISN'T flea season! Imo, anyway!👎 YOUR dogs, YOUR call!! But I do think THIS stuff worked very well to kill any fleas that jumped on them after I did the foam dry shampoo bath. Highly HIGHLY RECOMMEND!!👌♥️😁(Sorry for the rambling and that I can't remember the name OF the topical, monthly, neck stuff. But hope this helps somebody!! 🤞)' metadata={'source': '/Users/shubhamgore/Development/GraphRag_Langchain/data/test_data.json', 'seq_num': 3}\n",
      "page_content='First, let me point out that CapStar is NOT a preventative! It is supposed to kill adult fleas on the dog but it doesn't prevent them from getting fleas again - not does it kill anything but adult fleas, which means you still need something (monthly topical or oral flea medicine) to kill the eggs and the larvae or those will obviously mature into adults and you and your pet are stuck in the vicious cycle. That being said, here is my first and only experience with CapStar. We have never had flea issues until this year. I have two Alaskan Malamutes - one 105 pound short hair and one 110 pound long hair. Clearly, they both have the Malamute thick double coat. We usually like K9 Advantix II for flea treatment/prevention. Early this summer, I bought the Amazon brand that has the same ingredients. As K9 Advantix Ii. It arrived with no expiration date and I'm not sure if that's the reason that it doesn't seem to work, that it's not the same formula or perhaps the fleas have become resistant... or it's just an especially overwhelming year for fleas. Either way, I thought by trying this first and THEN putting their prevention on within a day or two would work. I gave them each a CapStar pill, nervously watched for adverse reactions and thanked God they didn't seem to have any issues. It also didn't seem to help the flea situation - they continued scratching and biting as before. Because I didn't want to give them back to back, I waited for about 48 hours before giving another CapStar to each of them. Once again, no reaction but the scratching and chewing hasn't subsided at all nine hours later. In fact, I almost feel like both times, they are actually scratching more after the CapStar tablets?? It makes me wonder if it is actually not killing the fleas but just irritating them and making them more active and angry (or at least more hungry LOL). I really needed this to work and was hoping that in conjunction with a topical preventative, we would be able to both kill AND prevent reinfstation with a two prong attack. Sadly, we are just out more money, time and effort. I should mention that a long side this effort, I treated the bedrooms that have carpet (the rest of the house has hard floors and we have a no-knap, outdoor rug I'm the living room because it can be power washed) Anyway, I sprayed the Vet's Best Flea & Tick Home Spray on the carpet, mattresses and washed bedding & blankets. It's difficult to get every possible location that a flea could be hiding but I was fortunate to be able to see a flea and spray directly on it. The Vet's Best spray killed it in less than 10 seconds. It does say that you can apply it to your dog's coat and rub it in down to their skin. That sounded too unrealistic with their thick coats but because it is natural, smells really nice IMO and obviously works, I think I will still attempt that on most of their cost/body, add Diatomaceous Earth to the floors, dog beds, rugs, etc and THEN try reapplying topical prevention. I just have to decide of I am going to use some of the 8 tubes I have left of the Amazon brand or try something else - might pick up the Frontline Plus that's on sale at Costco tomorrow.' metadata={'source': '/Users/shubhamgore/Development/GraphRag_Langchain/data/test_data.json', 'seq_num': 4}\n",
      "page_content='Edible, treat-like. I see it working within a day and a half after consistent treatment, and within a week, no trace of pest in the house. Definitely recommend as an alternative to topicals and collars. Check ingredients for allergies and sensitivities!' metadata={'source': '/Users/shubhamgore/Development/GraphRag_Langchain/data/test_data.json', 'seq_num': 5}\n",
      "page_content='I have a 60lb pitbull and a 30lb beagle and this medication worked amazing! Flea were falls off the dogs dead!' metadata={'source': '/Users/shubhamgore/Development/GraphRag_Langchain/data/test_data.json', 'seq_num': 6}\n",
      "page_content='I believe the flea meds work for killing fleas, but at my dogs expense. A couple hours after having only one chewable, my 45 lb AmStaff drools an excessive amount. A pools-worth. I was hesitant to think it was due to the meds so I kept an eye on her any time we gave her a chewable. Every time the excessive saliva was a side effect. It should also be noted that she is lethargic and appears to not want to eat. I have a dog that is hyper-sensitive and more research was needed in my part. If you have a dog that is also sensitive, please read ingredients and it’s side effects.' metadata={'source': '/Users/shubhamgore/Development/GraphRag_Langchain/data/test_data.json', 'seq_num': 7}\n",
      "page_content='Both my dogs, one is a mutt mix of like three dogs; Australian Shepherd, American pit and Border Collie (9 yrs old and 50lbs) the other is a Frenchie (2yrs old and 28lbs) I've been giving them these chewables for about 6 months now and they're both suddenly having side effect reactions. I took them both into the vet on Friday to get them current on all vaccinations and have a bunch of screenings with their new vet. Everything comes back great (blood, urine, fecal, etc). I give them their tablets on Tuesday evening, by Wednesday evening our older dog is exhibiting all the side effects listed underneath the label, Thursday morning I wake up to a mess, from both ends presumably, all over light beige carpet and neither dog is eating, while the older one continues to have loose stool. It happened once before like 2 months ago and then just a suddenly went away. The only thing it could possibly be I'm thinking is this medication. I don't understand why sometimes it affects them more than other times. They're both taking the correct dose for their weight, at the correct time, from the same bottle. (I bought the year supply one). I'm definitely going to go back to topical applications. 83% effectiveness is better than 99% effectiveness with the occasional mornings of scrubbing a 5x5 chunk of carpet which is absolutely ruined from dried bloody stool or vomit now, for sure. (Scrubbed with Dawn, scrub with vinegar, scrub with resolute pet stain remover and this is the best I could get it)' metadata={'source': '/Users/shubhamgore/Development/GraphRag_Langchain/data/test_data.json', 'seq_num': 8}\n"
     ]
    }
   ],
   "source": [
    "loader = JSONLoader(file_path = '../data/test_data.json',\n",
    "                    jq_schema='.amazon.Product[].[].content[]',  \n",
    "                    text_content=False)\n",
    "\n",
    "# Parsing the data to get a usable format (depends on further steps, can be loaded to vectorstore, analyzed etc.)\n",
    "documents = loader.load()\n",
    "\n",
    "# Displaying the loaded documents (for testing)\n",
    "for doc in documents:\n",
    "    print(doc)"
   ]
  },
  {
   "cell_type": "code",
   "execution_count": null,
   "metadata": {},
   "outputs": [],
   "source": []
  }
 ],
 "metadata": {
  "kernelspec": {
   "display_name": "RAG",
   "language": "python",
   "name": "python3"
  },
  "language_info": {
   "codemirror_mode": {
    "name": "ipython",
    "version": 3
   },
   "file_extension": ".py",
   "mimetype": "text/x-python",
   "name": "python",
   "nbconvert_exporter": "python",
   "pygments_lexer": "ipython3",
   "version": "3.12.5"
  }
 },
 "nbformat": 4,
 "nbformat_minor": 2
}
